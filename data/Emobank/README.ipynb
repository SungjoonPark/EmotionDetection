{
 "cells": [
  {
   "cell_type": "markdown",
   "metadata": {},
   "source": [
    "# 0 Folder Content\n",
    "\n",
    "This folder contains raw and meta data of EmoBank. In particular, it contains\n",
    "* ```raw.csv```: The raw textual data.\n",
    "* ```meta.tsv```: The source and genre meta-data.\n",
    "* ```reader.csv```: The gold ratings from the reader perspective\n",
    "* ```writer.csv```: The gold ratings fromt the writer perspective\n",
    "* ```emobank.csv```: Weighted average of reader and writer annotations. **Use this file by default.**"
   ]
  },
  {
   "cell_type": "markdown",
   "metadata": {},
   "source": [
    "# 1 Loading EmoBank\n",
    "\n",
    "EmoBank comes with annotations according to two *perspectives* (reader and writer). However, for most use cases, this distinction may not be relevant. In these cases, I would advise to use the combination of both annotions perspectives to increase reliability. These combined ratings are stored for convenience in ```emobank.csv``` and can be loaded like this:"
   ]
  },
  {
   "cell_type": "code",
   "execution_count": 1,
   "metadata": {},
   "outputs": [],
   "source": [
    "import pandas as pd\n",
    "eb = pd.read_csv(\"emobank.csv\", index_col=0)"
   ]
  },
  {
   "cell_type": "markdown",
   "metadata": {},
   "source": [
    "## 1.1 Data Format\n",
    "\n",
    "The columns V, A and D represent Valence (negative vs. positive), Arousal (calm vs. excited), and Dominance (being controlled vs. being in control). Each of those take numeric values from [1, 5]. Please refer to the paper for further details."
   ]
  },
  {
   "cell_type": "code",
   "execution_count": 2,
   "metadata": {},
   "outputs": [
    {
     "name": "stdout",
     "output_type": "stream",
     "text": [
      "(10062, 5)\n"
     ]
    },
    {
     "data": {
      "text/html": [
       "<div>\n",
       "<style scoped>\n",
       "    .dataframe tbody tr th:only-of-type {\n",
       "        vertical-align: middle;\n",
       "    }\n",
       "\n",
       "    .dataframe tbody tr th {\n",
       "        vertical-align: top;\n",
       "    }\n",
       "\n",
       "    .dataframe thead th {\n",
       "        text-align: right;\n",
       "    }\n",
       "</style>\n",
       "<table border=\"1\" class=\"dataframe\">\n",
       "  <thead>\n",
       "    <tr style=\"text-align: right;\">\n",
       "      <th></th>\n",
       "      <th>split</th>\n",
       "      <th>V</th>\n",
       "      <th>A</th>\n",
       "      <th>D</th>\n",
       "      <th>text</th>\n",
       "    </tr>\n",
       "    <tr>\n",
       "      <th>id</th>\n",
       "      <th></th>\n",
       "      <th></th>\n",
       "      <th></th>\n",
       "      <th></th>\n",
       "      <th></th>\n",
       "    </tr>\n",
       "  </thead>\n",
       "  <tbody>\n",
       "    <tr>\n",
       "      <th>110CYL068_1036_1079</th>\n",
       "      <td>train</td>\n",
       "      <td>3.00</td>\n",
       "      <td>3.00</td>\n",
       "      <td>3.20</td>\n",
       "      <td>Remember what she said in my last letter? \"</td>\n",
       "    </tr>\n",
       "    <tr>\n",
       "      <th>110CYL068_1079_1110</th>\n",
       "      <td>test</td>\n",
       "      <td>2.80</td>\n",
       "      <td>3.10</td>\n",
       "      <td>2.80</td>\n",
       "      <td>If I wasn't working here.</td>\n",
       "    </tr>\n",
       "    <tr>\n",
       "      <th>110CYL068_1127_1130</th>\n",
       "      <td>train</td>\n",
       "      <td>3.00</td>\n",
       "      <td>3.00</td>\n",
       "      <td>3.00</td>\n",
       "      <td>..\"</td>\n",
       "    </tr>\n",
       "    <tr>\n",
       "      <th>110CYL068_1137_1188</th>\n",
       "      <td>train</td>\n",
       "      <td>3.44</td>\n",
       "      <td>3.00</td>\n",
       "      <td>3.22</td>\n",
       "      <td>Goodwill helps people get off of public assist...</td>\n",
       "    </tr>\n",
       "    <tr>\n",
       "      <th>110CYL068_1189_1328</th>\n",
       "      <td>train</td>\n",
       "      <td>3.55</td>\n",
       "      <td>3.27</td>\n",
       "      <td>3.46</td>\n",
       "      <td>Sherry learned through our Future Works class ...</td>\n",
       "    </tr>\n",
       "  </tbody>\n",
       "</table>\n",
       "</div>"
      ],
      "text/plain": [
       "                     split     V     A     D  \\\n",
       "id                                             \n",
       "110CYL068_1036_1079  train  3.00  3.00  3.20   \n",
       "110CYL068_1079_1110   test  2.80  3.10  2.80   \n",
       "110CYL068_1127_1130  train  3.00  3.00  3.00   \n",
       "110CYL068_1137_1188  train  3.44  3.00  3.22   \n",
       "110CYL068_1189_1328  train  3.55  3.27  3.46   \n",
       "\n",
       "                                                                  text  \n",
       "id                                                                      \n",
       "110CYL068_1036_1079        Remember what she said in my last letter? \"  \n",
       "110CYL068_1079_1110                          If I wasn't working here.  \n",
       "110CYL068_1127_1130                                                ..\"  \n",
       "110CYL068_1137_1188  Goodwill helps people get off of public assist...  \n",
       "110CYL068_1189_1328  Sherry learned through our Future Works class ...  "
      ]
     },
     "execution_count": 2,
     "metadata": {},
     "output_type": "execute_result"
    }
   ],
   "source": [
    "print(eb.shape)\n",
    "eb.head()"
   ]
  },
  {
   "cell_type": "markdown",
   "metadata": {},
   "source": [
    "##  1.2 Quick sanity check\n",
    "Print most extreme sentences in either of three dimensions."
   ]
  },
  {
   "cell_type": "code",
   "execution_count": 32,
   "metadata": {},
   "outputs": [
    {
     "name": "stdout",
     "output_type": "stream",
     "text": [
      "Min V:\n",
      "V              1.2\n",
      "A              4.2\n",
      "D              3.8\n",
      "text    \"Fuck you\"\n",
      "Name: A_defense_of_Michael_Moore_12034_12044, dtype: object\n",
      "\n",
      "Max V:\n",
      "V                                4.6\n",
      "A                                4.3\n",
      "D                                3.7\n",
      "text    lol Wonderful Simply Superb!\n",
      "Name: vampires_4446_4474, dtype: object\n",
      "\n",
      "\n",
      "Min A:\n",
      "V                                              3.1\n",
      "A                                              1.8\n",
      "D                                              3.1\n",
      "text    I was feeling calm and private that night.\n",
      "Name: Nathans_Bylichka_2070_2112, dtype: object\n",
      "\n",
      "Max A:\n",
      "V                            4.3\n",
      "A                            4.4\n",
      "D                            3.4\n",
      "text    \"My God, yes, yes, yes!\"\n",
      "Name: captured_moments_28728_28752, dtype: object\n",
      "\n",
      "\n",
      "Min D:\n",
      "V                                                       2\n",
      "A                                                       3\n",
      "D                                                    1.78\n",
      "text    I shivered as I walked past the pale man’s bla...\n",
      "Name: Nathans_Bylichka_40025_40116, dtype: object\n",
      "\n",
      "Max D:\n",
      "V        1.7\n",
      "A        3.9\n",
      "D        4.2\n",
      "text    “NO”\n",
      "Name: defenders5_3431_3435, dtype: object\n",
      "\n",
      "\n"
     ]
    }
   ],
   "source": [
    "for d in [\"V\", \"A\", \"D\"]:\n",
    "    print(\"Min {}:\\n{}\".format(d, eb.loc[eb[d].argmin()]))\n",
    "    print()\n",
    "    print(\"Max {}:\\n{}\".format(d, eb.loc[eb[d].argmax()]))\n",
    "    print()\n",
    "    print()"
   ]
  },
  {
   "cell_type": "markdown",
   "metadata": {},
   "source": [
    "## 1.3 Loading Individual Parts\n",
    "\n",
    "If you want to work with either the reader or the writer set of annotations individually, here is how to access those."
   ]
  },
  {
   "cell_type": "markdown",
   "metadata": {},
   "source": [
    "### 1.3.1 Raw Text"
   ]
  },
  {
   "cell_type": "code",
   "execution_count": 25,
   "metadata": {},
   "outputs": [
    {
     "data": {
      "text/html": [
       "<div>\n",
       "<style>\n",
       "    .dataframe thead tr:only-child th {\n",
       "        text-align: right;\n",
       "    }\n",
       "\n",
       "    .dataframe thead th {\n",
       "        text-align: left;\n",
       "    }\n",
       "\n",
       "    .dataframe tbody tr th {\n",
       "        vertical-align: top;\n",
       "    }\n",
       "</style>\n",
       "<table border=\"1\" class=\"dataframe\">\n",
       "  <thead>\n",
       "    <tr style=\"text-align: right;\">\n",
       "      <th></th>\n",
       "      <th>text</th>\n",
       "    </tr>\n",
       "    <tr>\n",
       "      <th>id</th>\n",
       "      <th></th>\n",
       "    </tr>\n",
       "  </thead>\n",
       "  <tbody>\n",
       "    <tr>\n",
       "      <th>Acephalous-Cant-believe_4_47</th>\n",
       "      <td>I can't believe I wrote all that last year.</td>\n",
       "    </tr>\n",
       "    <tr>\n",
       "      <th>Acephalous-Cant-believe_83_354</th>\n",
       "      <td>Because I've been grading all damn day and am ...</td>\n",
       "    </tr>\n",
       "    <tr>\n",
       "      <th>Acephalous-Cant-believe_355_499</th>\n",
       "      <td>However, when I started looking through my arc...</td>\n",
       "    </tr>\n",
       "    <tr>\n",
       "      <th>Acephalous-Cant-believe_500_515</th>\n",
       "      <td>What do I mean?</td>\n",
       "    </tr>\n",
       "    <tr>\n",
       "      <th>Acephalous-Cant-believe_517_626</th>\n",
       "      <td>The posts I consider foundational to my curren...</td>\n",
       "    </tr>\n",
       "  </tbody>\n",
       "</table>\n",
       "</div>"
      ],
      "text/plain": [
       "                                                                              text\n",
       "id                                                                                \n",
       "Acephalous-Cant-believe_4_47           I can't believe I wrote all that last year.\n",
       "Acephalous-Cant-believe_83_354   Because I've been grading all damn day and am ...\n",
       "Acephalous-Cant-believe_355_499  However, when I started looking through my arc...\n",
       "Acephalous-Cant-believe_500_515                                    What do I mean?\n",
       "Acephalous-Cant-believe_517_626  The posts I consider foundational to my curren..."
      ]
     },
     "execution_count": 25,
     "metadata": {},
     "output_type": "execute_result"
    }
   ],
   "source": [
    "raw = pd.read_csv(\"raw.csv\", index_col=0)\n",
    "raw.head()"
   ]
  },
  {
   "cell_type": "markdown",
   "metadata": {},
   "source": [
    "### 1.3.2 Reader Perspective Annotations"
   ]
  },
  {
   "cell_type": "code",
   "execution_count": 26,
   "metadata": {},
   "outputs": [
    {
     "data": {
      "text/html": [
       "<div>\n",
       "<style>\n",
       "    .dataframe thead tr:only-child th {\n",
       "        text-align: right;\n",
       "    }\n",
       "\n",
       "    .dataframe thead th {\n",
       "        text-align: left;\n",
       "    }\n",
       "\n",
       "    .dataframe tbody tr th {\n",
       "        vertical-align: top;\n",
       "    }\n",
       "</style>\n",
       "<table border=\"1\" class=\"dataframe\">\n",
       "  <thead>\n",
       "    <tr style=\"text-align: right;\">\n",
       "      <th></th>\n",
       "      <th>V</th>\n",
       "      <th>A</th>\n",
       "      <th>D</th>\n",
       "      <th>stdV</th>\n",
       "      <th>stdA</th>\n",
       "      <th>stdD</th>\n",
       "      <th>N</th>\n",
       "    </tr>\n",
       "    <tr>\n",
       "      <th>id</th>\n",
       "      <th></th>\n",
       "      <th></th>\n",
       "      <th></th>\n",
       "      <th></th>\n",
       "      <th></th>\n",
       "      <th></th>\n",
       "      <th></th>\n",
       "    </tr>\n",
       "  </thead>\n",
       "  <tbody>\n",
       "    <tr>\n",
       "      <th>110CYL068_1036_1079</th>\n",
       "      <td>3.0</td>\n",
       "      <td>3.20</td>\n",
       "      <td>3.00</td>\n",
       "      <td>0.00</td>\n",
       "      <td>0.40</td>\n",
       "      <td>0.00</td>\n",
       "      <td>5</td>\n",
       "    </tr>\n",
       "    <tr>\n",
       "      <th>110CYL068_1079_1110</th>\n",
       "      <td>2.6</td>\n",
       "      <td>3.00</td>\n",
       "      <td>2.60</td>\n",
       "      <td>0.49</td>\n",
       "      <td>0.63</td>\n",
       "      <td>0.49</td>\n",
       "      <td>5</td>\n",
       "    </tr>\n",
       "    <tr>\n",
       "      <th>110CYL068_1110_1127</th>\n",
       "      <td>2.0</td>\n",
       "      <td>2.33</td>\n",
       "      <td>2.33</td>\n",
       "      <td>1.41</td>\n",
       "      <td>0.47</td>\n",
       "      <td>0.47</td>\n",
       "      <td>3</td>\n",
       "    </tr>\n",
       "    <tr>\n",
       "      <th>110CYL068_1127_1130</th>\n",
       "      <td>3.0</td>\n",
       "      <td>3.00</td>\n",
       "      <td>3.00</td>\n",
       "      <td>0.00</td>\n",
       "      <td>0.00</td>\n",
       "      <td>0.00</td>\n",
       "      <td>2</td>\n",
       "    </tr>\n",
       "    <tr>\n",
       "      <th>110CYL068_1137_1188</th>\n",
       "      <td>3.6</td>\n",
       "      <td>3.00</td>\n",
       "      <td>3.40</td>\n",
       "      <td>0.80</td>\n",
       "      <td>0.63</td>\n",
       "      <td>0.49</td>\n",
       "      <td>5</td>\n",
       "    </tr>\n",
       "  </tbody>\n",
       "</table>\n",
       "</div>"
      ],
      "text/plain": [
       "                       V     A     D  stdV  stdA  stdD  N\n",
       "id                                                       \n",
       "110CYL068_1036_1079  3.0  3.20  3.00  0.00  0.40  0.00  5\n",
       "110CYL068_1079_1110  2.6  3.00  2.60  0.49  0.63  0.49  5\n",
       "110CYL068_1110_1127  2.0  2.33  2.33  1.41  0.47  0.47  3\n",
       "110CYL068_1127_1130  3.0  3.00  3.00  0.00  0.00  0.00  2\n",
       "110CYL068_1137_1188  3.6  3.00  3.40  0.80  0.63  0.49  5"
      ]
     },
     "execution_count": 26,
     "metadata": {},
     "output_type": "execute_result"
    }
   ],
   "source": [
    "reader = pd.read_csv(\"reader.csv\", index_col=0)\n",
    "reader.head()"
   ]
  },
  {
   "cell_type": "markdown",
   "metadata": {},
   "source": [
    "### 1.3.3 Writer Perspective Annotations"
   ]
  },
  {
   "cell_type": "code",
   "execution_count": 27,
   "metadata": {
    "scrolled": true
   },
   "outputs": [
    {
     "data": {
      "text/html": [
       "<div>\n",
       "<style>\n",
       "    .dataframe thead tr:only-child th {\n",
       "        text-align: right;\n",
       "    }\n",
       "\n",
       "    .dataframe thead th {\n",
       "        text-align: left;\n",
       "    }\n",
       "\n",
       "    .dataframe tbody tr th {\n",
       "        vertical-align: top;\n",
       "    }\n",
       "</style>\n",
       "<table border=\"1\" class=\"dataframe\">\n",
       "  <thead>\n",
       "    <tr style=\"text-align: right;\">\n",
       "      <th></th>\n",
       "      <th>V</th>\n",
       "      <th>A</th>\n",
       "      <th>D</th>\n",
       "      <th>stdV</th>\n",
       "      <th>stdA</th>\n",
       "      <th>stdD</th>\n",
       "      <th>N</th>\n",
       "    </tr>\n",
       "    <tr>\n",
       "      <th>id</th>\n",
       "      <th></th>\n",
       "      <th></th>\n",
       "      <th></th>\n",
       "      <th></th>\n",
       "      <th></th>\n",
       "      <th></th>\n",
       "      <th></th>\n",
       "    </tr>\n",
       "  </thead>\n",
       "  <tbody>\n",
       "    <tr>\n",
       "      <th>110CYL068_1036_1079</th>\n",
       "      <td>3.00</td>\n",
       "      <td>2.8</td>\n",
       "      <td>3.4</td>\n",
       "      <td>0.00</td>\n",
       "      <td>0.98</td>\n",
       "      <td>0.49</td>\n",
       "      <td>5</td>\n",
       "    </tr>\n",
       "    <tr>\n",
       "      <th>110CYL068_1079_1110</th>\n",
       "      <td>3.00</td>\n",
       "      <td>3.2</td>\n",
       "      <td>3.0</td>\n",
       "      <td>0.00</td>\n",
       "      <td>0.40</td>\n",
       "      <td>0.00</td>\n",
       "      <td>5</td>\n",
       "    </tr>\n",
       "    <tr>\n",
       "      <th>110CYL068_1127_1130</th>\n",
       "      <td>3.00</td>\n",
       "      <td>3.0</td>\n",
       "      <td>3.0</td>\n",
       "      <td>0.00</td>\n",
       "      <td>0.00</td>\n",
       "      <td>0.00</td>\n",
       "      <td>5</td>\n",
       "    </tr>\n",
       "    <tr>\n",
       "      <th>110CYL068_1137_1188</th>\n",
       "      <td>3.25</td>\n",
       "      <td>3.0</td>\n",
       "      <td>3.0</td>\n",
       "      <td>0.43</td>\n",
       "      <td>0.71</td>\n",
       "      <td>0.00</td>\n",
       "      <td>4</td>\n",
       "    </tr>\n",
       "    <tr>\n",
       "      <th>110CYL068_1189_1328</th>\n",
       "      <td>3.40</td>\n",
       "      <td>3.4</td>\n",
       "      <td>3.2</td>\n",
       "      <td>0.49</td>\n",
       "      <td>0.49</td>\n",
       "      <td>0.40</td>\n",
       "      <td>5</td>\n",
       "    </tr>\n",
       "  </tbody>\n",
       "</table>\n",
       "</div>"
      ],
      "text/plain": [
       "                        V    A    D  stdV  stdA  stdD  N\n",
       "id                                                      \n",
       "110CYL068_1036_1079  3.00  2.8  3.4  0.00  0.98  0.49  5\n",
       "110CYL068_1079_1110  3.00  3.2  3.0  0.00  0.40  0.00  5\n",
       "110CYL068_1127_1130  3.00  3.0  3.0  0.00  0.00  0.00  5\n",
       "110CYL068_1137_1188  3.25  3.0  3.0  0.43  0.71  0.00  4\n",
       "110CYL068_1189_1328  3.40  3.4  3.2  0.49  0.49  0.40  5"
      ]
     },
     "execution_count": 27,
     "metadata": {},
     "output_type": "execute_result"
    }
   ],
   "source": [
    "writer = pd.read_csv(\"writer.csv\", index_col=0)\n",
    "writer.head()"
   ]
  },
  {
   "cell_type": "markdown",
   "metadata": {},
   "source": [
    "## 2 Function for Combining Individual Parts\n",
    "\n",
    "This code was used to generate ```emobank.csv```."
   ]
  },
  {
   "cell_type": "code",
   "execution_count": 28,
   "metadata": {},
   "outputs": [],
   "source": [
    "from pathlib import Path\n",
    "import pandas as pd\n",
    "\n",
    "def load_emobank(path):\n",
    "    \"\"\"\n",
    "    path..........The path to this folder.\n",
    "    \"\"\"\n",
    "    path = Path(path)\n",
    "    raw = pd.read_csv(path / \"raw.csv\", index_col=0)\n",
    "    writer = pd.read_csv(path / \"writer.csv\", index_col=0)\n",
    "    reader = pd.read_csv(path / \"reader.csv\", index_col=0)\n",
    "\n",
    "    common = sorted(list(set(writer.index).intersection(set(reader.index))))\n",
    "    \n",
    "    # redefine reader, writer as arrays\n",
    "    N_reader = (reader.loc[common,\"N\"]).values.reshape((len(common),1))\n",
    "    N_writer = (writer.loc[common,\"N\"]).values.reshape((len(common),1))\n",
    "    \n",
    "    reader = (reader.loc[common, [\"V\", \"A\",\"D\"]]).values\n",
    "    writer = (writer.loc[common, [\"V\", \"A\",\"D\"]]).values\n",
    "     \n",
    "    #compute weighted average of annotations\n",
    "    combined = ( (reader * N_reader) + (writer * N_writer) ) / (N_reader + N_writer)\n",
    "    \n",
    "    combined = pd.DataFrame(columns = [\"V\", \"A\", \"D\"], data=combined, index=common).round(2)\n",
    "    combined[\"text\"] = raw.loc[common]\n",
    "    combined.index.rename(\"id\", inplace=True)\n",
    "    \n",
    "    assert combined.shape == (10062, 4)\n",
    "    return combined"
   ]
  },
  {
   "cell_type": "code",
   "execution_count": 29,
   "metadata": {
    "collapsed": true
   },
   "outputs": [],
   "source": [
    "import csv\n",
    "eb = load_emobank(\".\")\n",
    "eb.to_csv(\"emobank.csv\", quoting = csv.QUOTE_NONNUMERIC)"
   ]
  },
  {
   "cell_type": "markdown",
   "metadata": {},
   "source": [
    "----"
   ]
  }
 ],
 "metadata": {
  "kernelspec": {
   "display_name": "Python 3",
   "language": "python",
   "name": "python3"
  },
  "language_info": {
   "codemirror_mode": {
    "name": "ipython",
    "version": 3
   },
   "file_extension": ".py",
   "mimetype": "text/x-python",
   "name": "python",
   "nbconvert_exporter": "python",
   "pygments_lexer": "ipython3",
   "version": "3.7.5"
  }
 },
 "nbformat": 4,
 "nbformat_minor": 1
}
